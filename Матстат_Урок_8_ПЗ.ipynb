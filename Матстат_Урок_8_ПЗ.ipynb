{
  "nbformat": 4,
  "nbformat_minor": 0,
  "metadata": {
    "colab": {
      "provenance": [],
      "include_colab_link": true
    },
    "kernelspec": {
      "display_name": "Python 3",
      "language": "python",
      "name": "python3"
    }
  },
  "cells": [
    {
      "cell_type": "markdown",
      "metadata": {
        "id": "view-in-github",
        "colab_type": "text"
      },
      "source": [
        "<a href=\"https://colab.research.google.com/github/AMORE76/-Python-Data-Science-Numpy-Matplotlib-Scikit-learn/blob/main/%D0%9C%D0%B0%D1%82%D1%81%D1%82%D0%B0%D1%82_%D0%A3%D1%80%D0%BE%D0%BA_8_%D0%9F%D0%97.ipynb\" target=\"_parent\"><img src=\"https://colab.research.google.com/assets/colab-badge.svg\" alt=\"Open In Colab\"/></a>"
      ]
    },
    {
      "cell_type": "markdown",
      "metadata": {
        "id": "vGvPz-PJYo5C"
      },
      "source": [
        "## Практическое задание к Уроку 8"
      ]
    },
    {
      "cell_type": "markdown",
      "source": [
        "Таблицы критических точек:"
      ],
      "metadata": {
        "id": "6mX6vUxprF3a"
      }
    },
    {
      "cell_type": "markdown",
      "metadata": {
        "id": "ZMf8cbNnYo6g"
      },
      "source": [
        "\n",
        "<a href = \"https://studfiles.net/preview/5520526/page:14/\">Критические точки распределения Фишера–Снедекора</a>\n",
        "        \n",
        "<a href = \"https://www.matburo.ru/tv/table_fisher.pdf\">Распределение Фишера–Снедекора (F-распределение)</a>"
      ]
    },
    {
      "cell_type": "markdown",
      "metadata": {
        "id": "ZQ3iGhjLYo6n"
      },
      "source": [
        "**Задача 1**"
      ]
    },
    {
      "cell_type": "markdown",
      "metadata": {
        "id": "B_Ag07g6Yo6p"
      },
      "source": [
        "Провести дисперсионный анализ для определения того, есть ли различия среднего роста среди взрослых футболистов, хоккеистов и штангистов. Даны значения роста в трех группах случайно выбранных спортсменов: Футболисты: 173, 175, 180, 178, 177, 185, 183, 182. Хоккеисты: 177, 179, 180, 188, 177, 172, 171, 184, 180. Штангисты: 172, 173, 169, 177, 166, 180, 178, 177, 172, 166, 170. $\\alpha = 0.05$\n"
      ]
    },
    {
      "cell_type": "code",
      "metadata": {
        "id": "Og2fZ_bgYo6r"
      },
      "source": [
        "import numpy as np"
      ],
      "execution_count": null,
      "outputs": []
    },
    {
      "cell_type": "markdown",
      "source": [
        "Всего 28 значений роста:"
      ],
      "metadata": {
        "id": "2dOZ_S5OnKiR"
      }
    },
    {
      "cell_type": "code",
      "metadata": {
        "id": "5fzwL1OBYo61",
        "colab": {
          "base_uri": "https://localhost:8080/"
        },
        "outputId": "1b913198-6137-42fc-c591-475d66ba6784"
      },
      "source": [
        "n1 = 8\n",
        "n2 = 9\n",
        "n3 = 11\n",
        "n = n1 + n2 + n3\n",
        "print(n)"
      ],
      "execution_count": null,
      "outputs": [
        {
          "output_type": "stream",
          "name": "stdout",
          "text": [
            "28\n"
          ]
        }
      ]
    },
    {
      "cell_type": "markdown",
      "metadata": {
        "id": "FJjbiTsqYo7E"
      },
      "source": [
        "Всего три группы:"
      ]
    },
    {
      "cell_type": "code",
      "metadata": {
        "id": "sz67ojVvYo7F"
      },
      "source": [
        "k = 3"
      ],
      "execution_count": null,
      "outputs": []
    },
    {
      "cell_type": "markdown",
      "metadata": {
        "id": "O294_P_HYo7N"
      },
      "source": [
        "Рост футболистов:"
      ]
    },
    {
      "cell_type": "code",
      "metadata": {
        "id": "XGE3QYnBYo7O"
      },
      "source": [
        "y1 = np.array([173, 175, 180, 178, 177, 185, 183, 182], dtype=np.float64)"
      ],
      "execution_count": null,
      "outputs": []
    },
    {
      "cell_type": "markdown",
      "metadata": {
        "id": "NXP5moMcYo7V"
      },
      "source": [
        "Рост хоккеистов:"
      ]
    },
    {
      "cell_type": "code",
      "metadata": {
        "id": "0vdLkJVXYo7X"
      },
      "source": [
        "y2 = np.array([177, 179, 180, 188, 177, 172, 171, 184, 180], dtype=np.float64)"
      ],
      "execution_count": null,
      "outputs": []
    },
    {
      "cell_type": "markdown",
      "metadata": {
        "id": "MGaphYCCYo7j"
      },
      "source": [
        "Рост штангистов:"
      ]
    },
    {
      "cell_type": "code",
      "metadata": {
        "id": "N0ll1RXdYo7k"
      },
      "source": [
        "y3 = np.array( [172, 173, 169, 177, 166, 180, 178, 177, 172, 166, 170], dtype=np.float64)"
      ],
      "execution_count": null,
      "outputs": []
    },
    {
      "cell_type": "markdown",
      "metadata": {
        "collapsed": true,
        "id": "ckgMBMwlYo7r"
      },
      "source": [
        "Проведем однофакторный дисперсионный анализ. Сначала найдем средний рост для каждой категории спортсменов:"
      ]
    },
    {
      "cell_type": "code",
      "metadata": {
        "id": "ZN6FRDI8Yo7s",
        "colab": {
          "base_uri": "https://localhost:8080/"
        },
        "outputId": "7994d40c-8276-4e9c-cd3e-00679f8e630c"
      },
      "source": [
        "y1_mean = np.mean(y1)\n",
        "print(y1_mean)"
      ],
      "execution_count": null,
      "outputs": [
        {
          "output_type": "stream",
          "name": "stdout",
          "text": [
            "179.125\n"
          ]
        }
      ]
    },
    {
      "cell_type": "code",
      "metadata": {
        "id": "8NIWa2kYYo73",
        "colab": {
          "base_uri": "https://localhost:8080/"
        },
        "outputId": "d645da45-e5da-4456-b6c5-bedb3083bade"
      },
      "source": [
        "y2_mean = np.mean(y2)\n",
        "print(y2_mean)"
      ],
      "execution_count": null,
      "outputs": [
        {
          "output_type": "stream",
          "name": "stdout",
          "text": [
            "178.66666666666666\n"
          ]
        }
      ]
    },
    {
      "cell_type": "code",
      "metadata": {
        "id": "w3iuWoo8Yo7_",
        "colab": {
          "base_uri": "https://localhost:8080/"
        },
        "outputId": "1af181a4-ff16-4fab-fc62-588e256006a3"
      },
      "source": [
        "y3_mean = np.mean(y3)\n",
        "print(y3_mean)"
      ],
      "execution_count": null,
      "outputs": [
        {
          "output_type": "stream",
          "name": "stdout",
          "text": [
            "172.72727272727272\n"
          ]
        }
      ]
    },
    {
      "cell_type": "markdown",
      "metadata": {
        "id": "Vptu9qE8Yo8H"
      },
      "source": [
        "Видно, что средний рост отличается. Установим, что это отличие статистически значимо. Для этого сначала соберем \n",
        "\n",
        "все значения роста в один массив:"
      ]
    },
    {
      "cell_type": "code",
      "metadata": {
        "id": "XUIg7A9IYo8K",
        "colab": {
          "base_uri": "https://localhost:8080/"
        },
        "outputId": "89731c4f-0c44-40e6-b8b0-c7ff1728c959"
      },
      "source": [
        "y_all = np.concatenate([y1, y2, y3])\n",
        "y_all"
      ],
      "execution_count": null,
      "outputs": [
        {
          "output_type": "execute_result",
          "data": {
            "text/plain": [
              "array([173., 175., 180., 178., 177., 185., 183., 182., 177., 179., 180.,\n",
              "       188., 177., 172., 171., 184., 180., 172., 173., 169., 177., 166.,\n",
              "       180., 178., 177., 172., 166., 170.])"
            ]
          },
          "metadata": {},
          "execution_count": 34
        }
      ]
    },
    {
      "cell_type": "markdown",
      "metadata": {
        "id": "FDrC2EgCYo8R"
      },
      "source": [
        "Найдем среднее значение роста по всем значениям:"
      ]
    },
    {
      "cell_type": "code",
      "metadata": {
        "id": "LrmBsYWlYo8U",
        "colab": {
          "base_uri": "https://localhost:8080/"
        },
        "outputId": "92d52f90-7323-4ef3-9204-c2b590ec1129"
      },
      "source": [
        "y_mean = np.mean(y_all)\n",
        "print(y_mean)"
      ],
      "execution_count": null,
      "outputs": [
        {
          "output_type": "stream",
          "name": "stdout",
          "text": [
            "176.46428571428572\n"
          ]
        }
      ]
    },
    {
      "cell_type": "markdown",
      "metadata": {
        "id": "WIgxrxamYo8e"
      },
      "source": [
        "Найдем $S^2$ — сумму квадратов отклонений наблюдений от общего среднего:"
      ]
    },
    {
      "cell_type": "code",
      "metadata": {
        "id": "g49G26gmYo8h",
        "colab": {
          "base_uri": "https://localhost:8080/"
        },
        "outputId": "6ef1b249-7441-4ae1-87ca-031af68011c1"
      },
      "source": [
        "s2 = np.sum((y_all - y_mean)**2)\n",
        "s2"
      ],
      "execution_count": null,
      "outputs": [
        {
          "output_type": "execute_result",
          "data": {
            "text/plain": [
              "830.9642857142854"
            ]
          },
          "metadata": {},
          "execution_count": 36
        }
      ]
    },
    {
      "cell_type": "markdown",
      "metadata": {
        "id": "4pbrI3QEYo8t"
      },
      "source": [
        "Найдем $S^2_F$ - сумму квадратов отклонений средних групповых значений от общего среднего:"
      ]
    },
    {
      "cell_type": "code",
      "metadata": {
        "id": "K0nyMwvGYo8w",
        "colab": {
          "base_uri": "https://localhost:8080/"
        },
        "outputId": "4c4bd923-0787-4a7c-c39a-d698b55814fa"
      },
      "source": [
        "s2_f = ((y1_mean - y_mean)**2) * n1 + ((y2_mean - y_mean)**2) * n2 + ((y3_mean - y_mean)**2) * n3\n",
        "s2_f"
      ],
      "execution_count": null,
      "outputs": [
        {
          "output_type": "execute_result",
          "data": {
            "text/plain": [
              "253.9074675324678"
            ]
          },
          "metadata": {},
          "execution_count": 37
        }
      ]
    },
    {
      "cell_type": "markdown",
      "metadata": {
        "id": "6Y3bn04xYo87"
      },
      "source": [
        "Найдем $S^2_{ост}$ — остаточную сумму квадратов отклонений:"
      ]
    },
    {
      "cell_type": "code",
      "metadata": {
        "colab": {
          "base_uri": "https://localhost:8080/"
        },
        "outputId": "23c229da-04ae-4b60-fd29-9455d42e99ba",
        "id": "SON51q2l3aJk"
      },
      "source": [
        "s2_residual = s2-s2_f\n",
        "s2_residual"
      ],
      "execution_count": null,
      "outputs": [
        {
          "output_type": "execute_result",
          "data": {
            "text/plain": [
              "577.0568181818177"
            ]
          },
          "metadata": {},
          "execution_count": 38
        }
      ]
    },
    {
      "cell_type": "markdown",
      "metadata": {
        "id": "r_o1uLOYYo9F"
      },
      "source": [
        "Удостоверимся, что соблюдается равенство $S^2 = S_F^2 + S_{ост}^2$:"
      ]
    },
    {
      "cell_type": "code",
      "metadata": {
        "id": "s4om9JoYYo9H",
        "colab": {
          "base_uri": "https://localhost:8080/"
        },
        "outputId": "5a079ebf-b39c-4b11-f657-21337772c3a2"
      },
      "source": [
        "print(s2)\n",
        "print(s2_f + s2_residual)"
      ],
      "execution_count": null,
      "outputs": [
        {
          "output_type": "stream",
          "name": "stdout",
          "text": [
            "830.9642857142854\n",
            "830.9642857142854\n"
          ]
        }
      ]
    },
    {
      "cell_type": "code",
      "metadata": {
        "id": "N7C8OOgn0eqi"
      },
      "source": [],
      "execution_count": null,
      "outputs": []
    },
    {
      "cell_type": "markdown",
      "metadata": {
        "id": "0CSn3JPbYo9N"
      },
      "source": [
        "Найдем общую дисперсию:"
      ]
    },
    {
      "cell_type": "code",
      "metadata": {
        "id": "poku5it4Yo9O",
        "colab": {
          "base_uri": "https://localhost:8080/"
        },
        "outputId": "b8f76808-18d3-4a49-d059-f07055b8d7b7"
      },
      "source": [
        "sigma2_general = s2 / (n - 1)\n",
        "sigma2_general"
      ],
      "execution_count": null,
      "outputs": [
        {
          "output_type": "execute_result",
          "data": {
            "text/plain": [
              "30.776455026455015"
            ]
          },
          "metadata": {},
          "execution_count": 40
        }
      ]
    },
    {
      "cell_type": "markdown",
      "metadata": {
        "id": "GpuU4kg0Yo9W"
      },
      "source": [
        "Найдем факторную дисперсию:"
      ]
    },
    {
      "cell_type": "code",
      "metadata": {
        "id": "LDEml9L-Yo9Z",
        "colab": {
          "base_uri": "https://localhost:8080/"
        },
        "outputId": "bd23eb65-e6d4-4843-a642-6c5399b38db6"
      },
      "source": [
        "sigma2_f = s2_f / (k - 1)\n",
        "sigma2_f"
      ],
      "execution_count": null,
      "outputs": [
        {
          "output_type": "execute_result",
          "data": {
            "text/plain": [
              "126.9537337662339"
            ]
          },
          "metadata": {},
          "execution_count": 41
        }
      ]
    },
    {
      "cell_type": "markdown",
      "metadata": {
        "id": "G5vpR7jyYo9j"
      },
      "source": [
        "Найдем остаточную дисперсию:"
      ]
    },
    {
      "cell_type": "code",
      "metadata": {
        "id": "KeWVYYHfYo9r",
        "colab": {
          "base_uri": "https://localhost:8080/"
        },
        "outputId": "c81a2033-3a28-4919-c5eb-1b0c3d26b833"
      },
      "source": [
        "sigma2_residual = s2_residual / (n - k)\n",
        "sigma2_residual"
      ],
      "execution_count": null,
      "outputs": [
        {
          "output_type": "execute_result",
          "data": {
            "text/plain": [
              "23.082272727272706"
            ]
          },
          "metadata": {},
          "execution_count": 42
        }
      ]
    },
    {
      "cell_type": "markdown",
      "metadata": {
        "id": "uQirLWssYo9x"
      },
      "source": [
        "Вычислим $F_H$:"
      ]
    },
    {
      "cell_type": "code",
      "metadata": {
        "id": "W9QELM6VYo91",
        "colab": {
          "base_uri": "https://localhost:8080/"
        },
        "outputId": "06d978cc-2459-4827-c8d0-618013c836d5"
      },
      "source": [
        "F_h = sigma2_f / sigma2_residual\n",
        "F_h"
      ],
      "execution_count": null,
      "outputs": [
        {
          "output_type": "execute_result",
          "data": {
            "text/plain": [
              "5.5000534508126036"
            ]
          },
          "metadata": {},
          "execution_count": 45
        }
      ]
    },
    {
      "cell_type": "markdown",
      "metadata": {
        "id": "7pw0jHLlYo9-"
      },
      "source": [
        "Найдем значение $F_{крит}$ в таблице критических точек распределения Фишера-Снедекора для заданного уровня значимости $\\alpha = 0.05$ и двух степеней свободы: \n",
        "\n",
        "$df_{межд} = k - 1 = 3 - 1 = 2$ и $df_{внутр} = n - k = 20 - 3 = 17$."
      ]
    },
    {
      "cell_type": "markdown",
      "metadata": {
        "id": "WPLuwwbyYo9_"
      },
      "source": [
        "Для данных значений $F_{крит} = 3.59$. Так как $F_H > F_{крит}$, различие средних зарплат в трех группах статистически значимо."
      ]
    },
    {
      "cell_type": "markdown",
      "metadata": {
        "id": "gIRQ9JRKYo-B"
      },
      "source": [
        "Также вычислим эмпирическое корреляционное отношение $\\eta^2$:\n",
        "\n"
      ]
    },
    {
      "cell_type": "code",
      "metadata": {
        "id": "jb2skTGMYo-D",
        "colab": {
          "base_uri": "https://localhost:8080/"
        },
        "outputId": "8807da74-e0ee-41ce-ca6d-b6d4a45a9fd6"
      },
      "source": [
        "eta2 = s2_f / s2\n",
        "eta2"
      ],
      "execution_count": null,
      "outputs": [
        {
          "output_type": "execute_result",
          "data": {
            "text/plain": [
              "0.30555761769498"
            ]
          },
          "metadata": {},
          "execution_count": 44
        }
      ]
    },
    {
      "cell_type": "markdown",
      "metadata": {
        "id": "M2g7FJjJYo-M"
      },
      "source": [
        "Значение  η2  пусть незначительно, но превышает значение диапазона [0.2-0.3], следовательно, групповые значения средних имеют статистически достоверные отличия. Значит,  различие средних значений роста в трех группах является статистически значимым."
      ]
    }
  ]
}