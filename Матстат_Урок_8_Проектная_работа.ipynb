{
  "nbformat": 4,
  "nbformat_minor": 0,
  "metadata": {
    "colab": {
      "provenance": [],
      "include_colab_link": true
    },
    "kernelspec": {
      "display_name": "Python 3",
      "language": "python",
      "name": "python3"
    }
  },
  "cells": [
    {
      "cell_type": "markdown",
      "metadata": {
        "id": "view-in-github",
        "colab_type": "text"
      },
      "source": [
        "<a href=\"https://colab.research.google.com/github/AMORE76/-Python-Data-Science-Numpy-Matplotlib-Scikit-learn/blob/main/%D0%9C%D0%B0%D1%82%D1%81%D1%82%D0%B0%D1%82_%D0%A3%D1%80%D0%BE%D0%BA_8_%D0%9F%D1%80%D0%BE%D0%B5%D0%BA%D1%82%D0%BD%D0%B0%D1%8F_%D1%80%D0%B0%D0%B1%D0%BE%D1%82%D0%B0.ipynb\" target=\"_parent\"><img src=\"https://colab.research.google.com/assets/colab-badge.svg\" alt=\"Open In Colab\"/></a>"
      ]
    },
    {
      "cell_type": "markdown",
      "metadata": {
        "id": "4fKVoFlAVV-j"
      },
      "source": [
        "### Тема работы: \"Применение парной линейной регрессии для статистического анализа зависимости стоимости квартиры от ее площади\"."
      ]
    },
    {
      "cell_type": "markdown",
      "metadata": {
        "id": "-H0TfXEAVV-c"
      },
      "source": [
        "## Проектная работа по курсу \"Теория вероятностей и математическая статистика\""
      ]
    },
    {
      "cell_type": "markdown",
      "metadata": {
        "collapsed": true,
        "id": "5zgH9DMZVV-m"
      },
      "source": [
        "Часто в статистике анализируют **многомерные** наблюдения, то есть имеющие несколько признаков.\n",
        "\n",
        "Для этого применяют многомерный статистический анализ. Особенно часто его используют, когда нужно:\n",
        "\n",
        "* изучить зависимость между признаками;\n",
        "* классифицировать объекты с множеством признаков;\n",
        "* понизить размерность пространства признаков (если их слишком много и нет возможности отсеять часть)."
      ]
    },
    {
      "cell_type": "markdown",
      "metadata": {
        "id": "xFyCeSbsVWBE"
      },
      "source": [
        "Возьмем исходные данные для расчета параметров из данных популярного портала недвижимости по городу Санкт-Петербург. Это будут значения площадей квартир в квадратных метрах (массив $x$) и соответствующие цены на эти квартиры в миллионах рублей (массив $y$), приведеннные для 12 наблюдений."
      ]
    },
    {
      "cell_type": "markdown",
      "metadata": {
        "id": "cWNyeSfjVWBH"
      },
      "source": [
        "Построим уравнение парной линейной регрессии, оценим ее точность и адекватность."
      ]
    },
    {
      "cell_type": "markdown",
      "source": [
        "Создадим массивы $x$ и $y$:"
      ],
      "metadata": {
        "id": "vd9L7IEDAqlH"
      }
    },
    {
      "cell_type": "code",
      "metadata": {
        "id": "8kLkCTNMVWBL"
      },
      "source": [
        "import numpy as np\n",
        "\n",
        "# Количество наблюдений\n",
        "n = 12\n",
        "\n",
        "x = np.array([24.30, 34.00, 36.00, 35.60, 35.00, 34.30, 39.10, 34.40, 41.40, 44.20, 33.20, 42.80], dtype=np.float64)\n",
        "y = np.array([6.00,\t6.95,\t7.20,\t7.60,\t7.70,\t7.90,\t8.50,\t8.70,\t8.70,\t8.80,\t7.40,\t8.00], dtype=np.float64)"
      ],
      "execution_count": null,
      "outputs": []
    },
    {
      "cell_type": "markdown",
      "metadata": {
        "collapsed": true,
        "id": "eIcZNHliVWBW"
      },
      "source": [
        "Для нахождения коэффициентов регрессии $a$ и $b$ воспользуемся формулами:"
      ]
    },
    {
      "cell_type": "code",
      "metadata": {
        "id": "r1mT4pdSVWBY",
        "colab": {
          "base_uri": "https://localhost:8080/"
        },
        "outputId": "38d0756c-2b39-4a4d-f0fe-03584d963f09"
      },
      "source": [
        "b = (np.mean(x * y) - np.mean(x) * np.mean(y)) / (np.mean(x**2) - np.mean(x) ** 2)\n",
        "b"
      ],
      "execution_count": null,
      "outputs": [
        {
          "output_type": "execute_result",
          "data": {
            "text/plain": [
              "0.12719796841382447"
            ]
          },
          "metadata": {},
          "execution_count": 23
        }
      ]
    },
    {
      "cell_type": "code",
      "metadata": {
        "id": "3eenHRuhVWBl",
        "colab": {
          "base_uri": "https://localhost:8080/"
        },
        "outputId": "7bfc4eaa-61e5-4d8f-cbc1-3eb979814344"
      },
      "source": [
        "a = np.mean(y) - b * np.mean(x)\n",
        "a"
      ],
      "execution_count": null,
      "outputs": [
        {
          "output_type": "execute_result",
          "data": {
            "text/plain": [
              "3.1839935264896706"
            ]
          },
          "metadata": {},
          "execution_count": 24
        }
      ]
    },
    {
      "cell_type": "markdown",
      "metadata": {
        "collapsed": true,
        "id": "F4wExIGGVWBv"
      },
      "source": [
        "Итак, уравнение регрессии имеет вид (коэффициенты округлены до тысячных):"
      ]
    },
    {
      "cell_type": "markdown",
      "metadata": {
        "collapsed": true,
        "id": "EAnsjUv4VWB0"
      },
      "source": [
        "$$y = 3.184 + 0.127 \\cdot x$$"
      ]
    },
    {
      "cell_type": "markdown",
      "metadata": {
        "id": "GSvgSj2WVWB2"
      },
      "source": [
        "С увеличением площади квартиры на 1 квадратный метр цена квартиры возрастает на 0.127 млн рублей (127 000 рублей)."
      ]
    },
    {
      "cell_type": "markdown",
      "metadata": {
        "id": "Jj60_kNBVWB4"
      },
      "source": [
        "Найдем коэффициент корреляции $r$ с помощью коэффициента $b$ и средних квадратического отклонения, посчитанного для массивов $x$ и $y$:"
      ]
    },
    {
      "cell_type": "code",
      "metadata": {
        "id": "-rzWVsRKVWB5",
        "colab": {
          "base_uri": "https://localhost:8080/"
        },
        "outputId": "7c86833f-f91a-4be4-ea1a-8a35ac9d0529"
      },
      "source": [
        "r = b * np.std(x) / np.std(y)\n",
        "r"
      ],
      "execution_count": null,
      "outputs": [
        {
          "output_type": "execute_result",
          "data": {
            "text/plain": [
              "0.8038481708630796"
            ]
          },
          "metadata": {},
          "execution_count": 25
        }
      ]
    },
    {
      "cell_type": "markdown",
      "metadata": {
        "id": "yCebK69XVWCC"
      },
      "source": [
        "Найдем коэффициент детерминации $R^2$:"
      ]
    },
    {
      "cell_type": "code",
      "metadata": {
        "id": "0ooklfCzVWCD",
        "colab": {
          "base_uri": "https://localhost:8080/"
        },
        "outputId": "d2ed9387-a7da-46da-bdd6-5dbf2c474707"
      },
      "source": [
        "R2 = r**2\n",
        "R2"
      ],
      "execution_count": null,
      "outputs": [
        {
          "output_type": "execute_result",
          "data": {
            "text/plain": [
              "0.6461718817999188"
            ]
          },
          "metadata": {},
          "execution_count": 26
        }
      ]
    },
    {
      "cell_type": "markdown",
      "metadata": {
        "id": "UNooD5xJVWCP"
      },
      "source": [
        "Это означает, что 64.6% вариации цены на квартиру ($y$) объясняется вариацией фактора $x$ — площади квартиры."
      ]
    },
    {
      "cell_type": "markdown",
      "metadata": {
        "id": "RgW1rXkEVWCR"
      },
      "source": [
        "С помощью этого уравнения регрессии посчитаем значения, предсказанные моделью значения цен на квартиры:"
      ]
    },
    {
      "cell_type": "code",
      "metadata": {
        "id": "1pStjYk9VWCS",
        "colab": {
          "base_uri": "https://localhost:8080/"
        },
        "outputId": "4edd468b-cd25-4c38-f883-11ffe9ef3a4b"
      },
      "source": [
        "y_pred = a + b * x\n",
        "y_pred"
      ],
      "execution_count": null,
      "outputs": [
        {
          "output_type": "execute_result",
          "data": {
            "text/plain": [
              "array([6.27490416, 7.50872445, 7.76312039, 7.7122412 , 7.63592242,\n",
              "       7.54688384, 8.15743409, 7.55960364, 8.44998942, 8.80614373,\n",
              "       7.40696608, 8.62806657])"
            ]
          },
          "metadata": {},
          "execution_count": 27
        }
      ]
    },
    {
      "cell_type": "markdown",
      "metadata": {
        "id": "ymhf8BfBVWCc"
      },
      "source": [
        "Качество модели определим с помощью средней ошибки аппроксимации $\\overline {A}$:"
      ]
    },
    {
      "cell_type": "code",
      "metadata": {
        "id": "bv3vJejlVWCg",
        "outputId": "a66833b3-17e0-4f42-dcba-2baee6cc5caf",
        "colab": {
          "base_uri": "https://localhost:8080/"
        }
      },
      "source": [
        "A_mean = 100 * np.mean(np.abs((y - y_pred) / y))\n",
        "A_mean"
      ],
      "execution_count": null,
      "outputs": [
        {
          "output_type": "execute_result",
          "data": {
            "text/plain": [
              "4.603964327318141"
            ]
          },
          "metadata": {},
          "execution_count": 28
        }
      ]
    },
    {
      "cell_type": "markdown",
      "metadata": {
        "id": "2lpGd6eKVWCw"
      },
      "source": [
        "Так как $\\overline {A}$ равна 4.6%, что не превышает 8-10 %, модель хорошо описывает эмпирические данные. Для оценки значимости \n",
        "\n",
        "уравнения регрессии воспользуемся F-критерием Фишера. Найдем фактическое значение $F$-критерия ($F_{факт}$):"
      ]
    },
    {
      "cell_type": "code",
      "metadata": {
        "id": "2s_12smQVWC0",
        "outputId": "63f4e37c-fe9d-4bae-99d5-e66c76ebe9d9",
        "colab": {
          "base_uri": "https://localhost:8080/"
        }
      },
      "source": [
        "F_fact = (r**2 * (n - 2)) / (1 - r**2)\n",
        "F_fact"
      ],
      "execution_count": null,
      "outputs": [
        {
          "output_type": "execute_result",
          "data": {
            "text/plain": [
              "18.262310103758466"
            ]
          },
          "metadata": {},
          "execution_count": 29
        }
      ]
    },
    {
      "cell_type": "markdown",
      "metadata": {
        "id": "tRrc_mzoVWC9"
      },
      "source": [
        "При 5 % уровне значимости и степенях свободы $k_1 = 1$ и $k_2 = 12 - 2 = 10$ табличное значение критерия: $F_{кр} = 4.96$.\n",
        "\n",
        "Так как $F_{факт} = 18.26 > F_{кр} = 4.96$, уравнение регрессии статистически значимо."
      ]
    },
    {
      "cell_type": "markdown",
      "metadata": {
        "id": "7AW4TKZLVWDC"
      },
      "source": [
        "Для оценки статистической значимости параметров регрессии воспользуемся $t$-статистикой Стьюдента и также рассчитаем \n",
        "\n",
        "доверительные интервалы каждого из показателей. При $df = n - 2 = 12 - 2 = 10$ и $\\alpha = 0.05$ получим\n",
        "\n",
        "(см. <a href='https://statpsy.ru/t-student/t-test-tablica/'>Таблицу критических значений t-критерия Стьюдента</a>):"
      ]
    },
    {
      "cell_type": "markdown",
      "metadata": {
        "id": "0R9OLU3rVWDE"
      },
      "source": [
        "$$t_{кр} = 2.228$$"
      ]
    },
    {
      "cell_type": "markdown",
      "metadata": {
        "id": "KolP5udaVWDH"
      },
      "source": [
        "Определим стандартную ошибку $S_{ост}$ (переменная **s_residual**) и случайные ошибки $m_a, \\; m_b$:"
      ]
    },
    {
      "cell_type": "code",
      "metadata": {
        "id": "y7ZtBGJXVWDI",
        "outputId": "c5e3e9c1-fd8e-47fc-f738-068e2f7f5d7d",
        "colab": {
          "base_uri": "https://localhost:8080/"
        }
      },
      "source": [
        "s_residual = np.sqrt(np.sum((y - y_pred)**2) / (n - 2))\n",
        "m_a = s_residual * np.sqrt(np.sum(x ** 2)) / (n * np.std(x))\n",
        "m_b = s_residual / (np.std(x) * np.sqrt(n))\n",
        "\n",
        "print('s_residual = {}\\nm_a = {}\\nm_b = {}'.format(s_residual, m_a, m_b))"
      ],
      "execution_count": null,
      "outputs": [
        {
          "output_type": "stream",
          "name": "stdout",
          "text": [
            "s_residual = 0.5216473302464308\n",
            "m_a = 1.0877104200592687\n",
            "m_b = 0.029764755426405557\n"
          ]
        }
      ]
    },
    {
      "cell_type": "markdown",
      "metadata": {
        "id": "mrYy3Z2JVWDQ"
      },
      "source": [
        "Вычислим наблюдаемые значения критерия $t_a$ и $t_b$:"
      ]
    },
    {
      "cell_type": "code",
      "metadata": {
        "id": "7F0Yci-HVWDS",
        "outputId": "a28fe329-d221-432d-fa55-4ac953b64be1",
        "colab": {
          "base_uri": "https://localhost:8080/"
        }
      },
      "source": [
        "t_a = a / m_a\n",
        "t_a"
      ],
      "execution_count": null,
      "outputs": [
        {
          "output_type": "execute_result",
          "data": {
            "text/plain": [
              "2.9272437477579527"
            ]
          },
          "metadata": {},
          "execution_count": 31
        }
      ]
    },
    {
      "cell_type": "code",
      "metadata": {
        "id": "UfXZXkmpVWDd",
        "outputId": "9eaf524e-5997-40d0-d7d6-48fede98ceb8",
        "colab": {
          "base_uri": "https://localhost:8080/"
        }
      },
      "source": [
        "t_b = b / m_b\n",
        "t_b"
      ],
      "execution_count": null,
      "outputs": [
        {
          "output_type": "execute_result",
          "data": {
            "text/plain": [
              "4.273442418444394"
            ]
          },
          "metadata": {},
          "execution_count": 32
        }
      ]
    },
    {
      "cell_type": "markdown",
      "metadata": {
        "id": "qNAXIaijVWDk"
      },
      "source": [
        "Фактические значения t-статистики больше табличного значения:"
      ]
    },
    {
      "cell_type": "markdown",
      "metadata": {
        "id": "wGlkWCg2VWDl"
      },
      "source": [
        "$$t_a = 2.93 > t_{кр} = 2.228, \\; t_b = 4.27 > t_{кр} = 2.228,$$"
      ]
    },
    {
      "cell_type": "markdown",
      "metadata": {
        "id": "8kwL6vR_VWDp"
      },
      "source": [
        "поэтому параметры $a$ и $b$ не случайно отличаются от нуля, то есть они статистически значимы."
      ]
    },
    {
      "cell_type": "markdown",
      "metadata": {
        "id": "uc7Zz2h1VWDr"
      },
      "source": [
        "Рассчитаем доверительные интервалы для параметров регрессии $a$ и $b$. Для этого определим предельную ошибку для каждого показателя ($\\Delta_a$ и $\\Delta_b$),\n",
        "\n",
        "используя значение $t_{кр}$, равное 2.228 (переменная **t_cr**):"
      ]
    },
    {
      "cell_type": "code",
      "metadata": {
        "id": "pW5Qj3ryVWDt"
      },
      "source": [
        "t_cr = 2.228"
      ],
      "execution_count": null,
      "outputs": []
    },
    {
      "cell_type": "code",
      "metadata": {
        "id": "wfIm3E5xVWDy",
        "outputId": "5258c6ce-314b-41aa-b316-bbcb48f811fc",
        "colab": {
          "base_uri": "https://localhost:8080/"
        }
      },
      "source": [
        "delta_a = t_cr * m_a\n",
        "delta_a"
      ],
      "execution_count": null,
      "outputs": [
        {
          "output_type": "execute_result",
          "data": {
            "text/plain": [
              "2.4234188158920507"
            ]
          },
          "metadata": {},
          "execution_count": 34
        }
      ]
    },
    {
      "cell_type": "code",
      "metadata": {
        "id": "gF3fKd8OVWD5",
        "outputId": "cec06241-b17f-42cc-8222-833878b1acf9",
        "colab": {
          "base_uri": "https://localhost:8080/"
        }
      },
      "source": [
        "delta_b = t_cr * m_b\n",
        "delta_b"
      ],
      "execution_count": null,
      "outputs": [
        {
          "output_type": "execute_result",
          "data": {
            "text/plain": [
              "0.06631587509003159"
            ]
          },
          "metadata": {},
          "execution_count": 35
        }
      ]
    },
    {
      "cell_type": "markdown",
      "metadata": {
        "id": "sHUTKIhTVWD-"
      },
      "source": [
        "Найдем границы доверительных интервалов $\\gamma_{a_{min}}, \\gamma_{a_{max}}, \\gamma_{b_{min}}, \\gamma_{b_{max}}$:"
      ]
    },
    {
      "cell_type": "code",
      "metadata": {
        "id": "mv8YJBn6VWEB",
        "outputId": "6d54d478-fd1f-40dc-f1d9-a133cab08db1",
        "colab": {
          "base_uri": "https://localhost:8080/"
        }
      },
      "source": [
        "gamma_a_min = a - delta_a\n",
        "gamma_a_min"
      ],
      "execution_count": null,
      "outputs": [
        {
          "output_type": "execute_result",
          "data": {
            "text/plain": [
              "0.7605747105976199"
            ]
          },
          "metadata": {},
          "execution_count": 36
        }
      ]
    },
    {
      "cell_type": "code",
      "metadata": {
        "id": "K7kHFohfVWER",
        "outputId": "66d5a6cb-cefd-4601-959d-cbe3a17817ab",
        "colab": {
          "base_uri": "https://localhost:8080/"
        }
      },
      "source": [
        "gamma_a_max = a + delta_a\n",
        "gamma_a_max"
      ],
      "execution_count": null,
      "outputs": [
        {
          "output_type": "execute_result",
          "data": {
            "text/plain": [
              "5.607412342381721"
            ]
          },
          "metadata": {},
          "execution_count": 37
        }
      ]
    },
    {
      "cell_type": "code",
      "metadata": {
        "id": "adNd5XPZVWEZ",
        "outputId": "078d5a4d-76cf-4c98-ee40-e78585c5f6ce",
        "colab": {
          "base_uri": "https://localhost:8080/"
        }
      },
      "source": [
        "gamma_b_min = b - delta_b\n",
        "gamma_b_min"
      ],
      "execution_count": null,
      "outputs": [
        {
          "output_type": "execute_result",
          "data": {
            "text/plain": [
              "0.06088209332379288"
            ]
          },
          "metadata": {},
          "execution_count": 38
        }
      ]
    },
    {
      "cell_type": "code",
      "metadata": {
        "id": "QYwAhhdHVWEf",
        "outputId": "b578daf2-9bb9-47a6-9c5f-4ae8c1493990",
        "colab": {
          "base_uri": "https://localhost:8080/"
        }
      },
      "source": [
        "gamma_b_max = b + delta_b\n",
        "gamma_b_max"
      ],
      "execution_count": null,
      "outputs": [
        {
          "output_type": "execute_result",
          "data": {
            "text/plain": [
              "0.19351384350385606"
            ]
          },
          "metadata": {},
          "execution_count": 39
        }
      ]
    },
    {
      "cell_type": "markdown",
      "metadata": {
        "id": "KzUe1mDhVWEk"
      },
      "source": [
        "**Приходим к выводу о том, что с вероятностью $p = 1 - \\alpha = 0.95$ параметры $a$ и $b$, находясь в указанных границах, \n",
        "являются статистически значимыми и отличны от нуля.**"
      ]
    },
    {
      "cell_type": "markdown",
      "source": [
        "Поместим исходные и предсказанные данные в датафрейм **df**:"
      ],
      "metadata": {
        "id": "UrkDd8ZdBbdT"
      }
    },
    {
      "cell_type": "code",
      "metadata": {
        "id": "Addxji38VWEm",
        "outputId": "3a457b41-587c-495f-83fb-5e5e76bac848",
        "colab": {
          "base_uri": "https://localhost:8080/",
          "height": 425
        }
      },
      "source": [
        "import pandas as pd\n",
        "\n",
        "df = pd.DataFrame({'x': x, 'y': y, 'y_pred': y_pred}, columns=['x', 'y', 'y_pred'])\n",
        "df"
      ],
      "execution_count": null,
      "outputs": [
        {
          "output_type": "execute_result",
          "data": {
            "text/plain": [
              "       x     y    y_pred\n",
              "0   24.3  6.00  6.274904\n",
              "1   34.0  6.95  7.508724\n",
              "2   36.0  7.20  7.763120\n",
              "3   35.6  7.60  7.712241\n",
              "4   35.0  7.70  7.635922\n",
              "5   34.3  7.90  7.546884\n",
              "6   39.1  8.50  8.157434\n",
              "7   34.4  8.70  7.559604\n",
              "8   41.4  8.70  8.449989\n",
              "9   44.2  8.80  8.806144\n",
              "10  33.2  7.40  7.406966\n",
              "11  42.8  8.00  8.628067"
            ],
            "text/html": [
              "\n",
              "  <div id=\"df-0602f2e8-bde4-4ad8-a6c6-f176e6a5f222\">\n",
              "    <div class=\"colab-df-container\">\n",
              "      <div>\n",
              "<style scoped>\n",
              "    .dataframe tbody tr th:only-of-type {\n",
              "        vertical-align: middle;\n",
              "    }\n",
              "\n",
              "    .dataframe tbody tr th {\n",
              "        vertical-align: top;\n",
              "    }\n",
              "\n",
              "    .dataframe thead th {\n",
              "        text-align: right;\n",
              "    }\n",
              "</style>\n",
              "<table border=\"1\" class=\"dataframe\">\n",
              "  <thead>\n",
              "    <tr style=\"text-align: right;\">\n",
              "      <th></th>\n",
              "      <th>x</th>\n",
              "      <th>y</th>\n",
              "      <th>y_pred</th>\n",
              "    </tr>\n",
              "  </thead>\n",
              "  <tbody>\n",
              "    <tr>\n",
              "      <th>0</th>\n",
              "      <td>24.3</td>\n",
              "      <td>6.00</td>\n",
              "      <td>6.274904</td>\n",
              "    </tr>\n",
              "    <tr>\n",
              "      <th>1</th>\n",
              "      <td>34.0</td>\n",
              "      <td>6.95</td>\n",
              "      <td>7.508724</td>\n",
              "    </tr>\n",
              "    <tr>\n",
              "      <th>2</th>\n",
              "      <td>36.0</td>\n",
              "      <td>7.20</td>\n",
              "      <td>7.763120</td>\n",
              "    </tr>\n",
              "    <tr>\n",
              "      <th>3</th>\n",
              "      <td>35.6</td>\n",
              "      <td>7.60</td>\n",
              "      <td>7.712241</td>\n",
              "    </tr>\n",
              "    <tr>\n",
              "      <th>4</th>\n",
              "      <td>35.0</td>\n",
              "      <td>7.70</td>\n",
              "      <td>7.635922</td>\n",
              "    </tr>\n",
              "    <tr>\n",
              "      <th>5</th>\n",
              "      <td>34.3</td>\n",
              "      <td>7.90</td>\n",
              "      <td>7.546884</td>\n",
              "    </tr>\n",
              "    <tr>\n",
              "      <th>6</th>\n",
              "      <td>39.1</td>\n",
              "      <td>8.50</td>\n",
              "      <td>8.157434</td>\n",
              "    </tr>\n",
              "    <tr>\n",
              "      <th>7</th>\n",
              "      <td>34.4</td>\n",
              "      <td>8.70</td>\n",
              "      <td>7.559604</td>\n",
              "    </tr>\n",
              "    <tr>\n",
              "      <th>8</th>\n",
              "      <td>41.4</td>\n",
              "      <td>8.70</td>\n",
              "      <td>8.449989</td>\n",
              "    </tr>\n",
              "    <tr>\n",
              "      <th>9</th>\n",
              "      <td>44.2</td>\n",
              "      <td>8.80</td>\n",
              "      <td>8.806144</td>\n",
              "    </tr>\n",
              "    <tr>\n",
              "      <th>10</th>\n",
              "      <td>33.2</td>\n",
              "      <td>7.40</td>\n",
              "      <td>7.406966</td>\n",
              "    </tr>\n",
              "    <tr>\n",
              "      <th>11</th>\n",
              "      <td>42.8</td>\n",
              "      <td>8.00</td>\n",
              "      <td>8.628067</td>\n",
              "    </tr>\n",
              "  </tbody>\n",
              "</table>\n",
              "</div>\n",
              "      <button class=\"colab-df-convert\" onclick=\"convertToInteractive('df-0602f2e8-bde4-4ad8-a6c6-f176e6a5f222')\"\n",
              "              title=\"Convert this dataframe to an interactive table.\"\n",
              "              style=\"display:none;\">\n",
              "        \n",
              "  <svg xmlns=\"http://www.w3.org/2000/svg\" height=\"24px\"viewBox=\"0 0 24 24\"\n",
              "       width=\"24px\">\n",
              "    <path d=\"M0 0h24v24H0V0z\" fill=\"none\"/>\n",
              "    <path d=\"M18.56 5.44l.94 2.06.94-2.06 2.06-.94-2.06-.94-.94-2.06-.94 2.06-2.06.94zm-11 1L8.5 8.5l.94-2.06 2.06-.94-2.06-.94L8.5 2.5l-.94 2.06-2.06.94zm10 10l.94 2.06.94-2.06 2.06-.94-2.06-.94-.94-2.06-.94 2.06-2.06.94z\"/><path d=\"M17.41 7.96l-1.37-1.37c-.4-.4-.92-.59-1.43-.59-.52 0-1.04.2-1.43.59L10.3 9.45l-7.72 7.72c-.78.78-.78 2.05 0 2.83L4 21.41c.39.39.9.59 1.41.59.51 0 1.02-.2 1.41-.59l7.78-7.78 2.81-2.81c.8-.78.8-2.07 0-2.86zM5.41 20L4 18.59l7.72-7.72 1.47 1.35L5.41 20z\"/>\n",
              "  </svg>\n",
              "      </button>\n",
              "      \n",
              "  <style>\n",
              "    .colab-df-container {\n",
              "      display:flex;\n",
              "      flex-wrap:wrap;\n",
              "      gap: 12px;\n",
              "    }\n",
              "\n",
              "    .colab-df-convert {\n",
              "      background-color: #E8F0FE;\n",
              "      border: none;\n",
              "      border-radius: 50%;\n",
              "      cursor: pointer;\n",
              "      display: none;\n",
              "      fill: #1967D2;\n",
              "      height: 32px;\n",
              "      padding: 0 0 0 0;\n",
              "      width: 32px;\n",
              "    }\n",
              "\n",
              "    .colab-df-convert:hover {\n",
              "      background-color: #E2EBFA;\n",
              "      box-shadow: 0px 1px 2px rgba(60, 64, 67, 0.3), 0px 1px 3px 1px rgba(60, 64, 67, 0.15);\n",
              "      fill: #174EA6;\n",
              "    }\n",
              "\n",
              "    [theme=dark] .colab-df-convert {\n",
              "      background-color: #3B4455;\n",
              "      fill: #D2E3FC;\n",
              "    }\n",
              "\n",
              "    [theme=dark] .colab-df-convert:hover {\n",
              "      background-color: #434B5C;\n",
              "      box-shadow: 0px 1px 3px 1px rgba(0, 0, 0, 0.15);\n",
              "      filter: drop-shadow(0px 1px 2px rgba(0, 0, 0, 0.3));\n",
              "      fill: #FFFFFF;\n",
              "    }\n",
              "  </style>\n",
              "\n",
              "      <script>\n",
              "        const buttonEl =\n",
              "          document.querySelector('#df-0602f2e8-bde4-4ad8-a6c6-f176e6a5f222 button.colab-df-convert');\n",
              "        buttonEl.style.display =\n",
              "          google.colab.kernel.accessAllowed ? 'block' : 'none';\n",
              "\n",
              "        async function convertToInteractive(key) {\n",
              "          const element = document.querySelector('#df-0602f2e8-bde4-4ad8-a6c6-f176e6a5f222');\n",
              "          const dataTable =\n",
              "            await google.colab.kernel.invokeFunction('convertToInteractive',\n",
              "                                                     [key], {});\n",
              "          if (!dataTable) return;\n",
              "\n",
              "          const docLinkHtml = 'Like what you see? Visit the ' +\n",
              "            '<a target=\"_blank\" href=https://colab.research.google.com/notebooks/data_table.ipynb>data table notebook</a>'\n",
              "            + ' to learn more about interactive tables.';\n",
              "          element.innerHTML = '';\n",
              "          dataTable['output_type'] = 'display_data';\n",
              "          await google.colab.output.renderOutput(dataTable, element);\n",
              "          const docLink = document.createElement('div');\n",
              "          docLink.innerHTML = docLinkHtml;\n",
              "          element.appendChild(docLink);\n",
              "        }\n",
              "      </script>\n",
              "    </div>\n",
              "  </div>\n",
              "  "
            ]
          },
          "metadata": {},
          "execution_count": 40
        }
      ]
    },
    {
      "cell_type": "markdown",
      "metadata": {
        "id": "pF4NpdpYVWEt"
      },
      "source": [
        "Отсортируем значения по полю **x**:"
      ]
    },
    {
      "cell_type": "code",
      "metadata": {
        "id": "lX0_69KpVWEv",
        "outputId": "e86eb031-dac4-49aa-b3b1-d0907a9e6f4e",
        "colab": {
          "base_uri": "https://localhost:8080/",
          "height": 425
        }
      },
      "source": [
        "df = df.sort_values('x')\n",
        "df"
      ],
      "execution_count": null,
      "outputs": [
        {
          "output_type": "execute_result",
          "data": {
            "text/plain": [
              "       x     y    y_pred\n",
              "0   24.3  6.00  6.274904\n",
              "10  33.2  7.40  7.406966\n",
              "1   34.0  6.95  7.508724\n",
              "5   34.3  7.90  7.546884\n",
              "7   34.4  8.70  7.559604\n",
              "4   35.0  7.70  7.635922\n",
              "3   35.6  7.60  7.712241\n",
              "2   36.0  7.20  7.763120\n",
              "6   39.1  8.50  8.157434\n",
              "8   41.4  8.70  8.449989\n",
              "11  42.8  8.00  8.628067\n",
              "9   44.2  8.80  8.806144"
            ],
            "text/html": [
              "\n",
              "  <div id=\"df-2b0b5e4e-d813-4a8a-847f-b534f8a8cb2f\">\n",
              "    <div class=\"colab-df-container\">\n",
              "      <div>\n",
              "<style scoped>\n",
              "    .dataframe tbody tr th:only-of-type {\n",
              "        vertical-align: middle;\n",
              "    }\n",
              "\n",
              "    .dataframe tbody tr th {\n",
              "        vertical-align: top;\n",
              "    }\n",
              "\n",
              "    .dataframe thead th {\n",
              "        text-align: right;\n",
              "    }\n",
              "</style>\n",
              "<table border=\"1\" class=\"dataframe\">\n",
              "  <thead>\n",
              "    <tr style=\"text-align: right;\">\n",
              "      <th></th>\n",
              "      <th>x</th>\n",
              "      <th>y</th>\n",
              "      <th>y_pred</th>\n",
              "    </tr>\n",
              "  </thead>\n",
              "  <tbody>\n",
              "    <tr>\n",
              "      <th>0</th>\n",
              "      <td>24.3</td>\n",
              "      <td>6.00</td>\n",
              "      <td>6.274904</td>\n",
              "    </tr>\n",
              "    <tr>\n",
              "      <th>10</th>\n",
              "      <td>33.2</td>\n",
              "      <td>7.40</td>\n",
              "      <td>7.406966</td>\n",
              "    </tr>\n",
              "    <tr>\n",
              "      <th>1</th>\n",
              "      <td>34.0</td>\n",
              "      <td>6.95</td>\n",
              "      <td>7.508724</td>\n",
              "    </tr>\n",
              "    <tr>\n",
              "      <th>5</th>\n",
              "      <td>34.3</td>\n",
              "      <td>7.90</td>\n",
              "      <td>7.546884</td>\n",
              "    </tr>\n",
              "    <tr>\n",
              "      <th>7</th>\n",
              "      <td>34.4</td>\n",
              "      <td>8.70</td>\n",
              "      <td>7.559604</td>\n",
              "    </tr>\n",
              "    <tr>\n",
              "      <th>4</th>\n",
              "      <td>35.0</td>\n",
              "      <td>7.70</td>\n",
              "      <td>7.635922</td>\n",
              "    </tr>\n",
              "    <tr>\n",
              "      <th>3</th>\n",
              "      <td>35.6</td>\n",
              "      <td>7.60</td>\n",
              "      <td>7.712241</td>\n",
              "    </tr>\n",
              "    <tr>\n",
              "      <th>2</th>\n",
              "      <td>36.0</td>\n",
              "      <td>7.20</td>\n",
              "      <td>7.763120</td>\n",
              "    </tr>\n",
              "    <tr>\n",
              "      <th>6</th>\n",
              "      <td>39.1</td>\n",
              "      <td>8.50</td>\n",
              "      <td>8.157434</td>\n",
              "    </tr>\n",
              "    <tr>\n",
              "      <th>8</th>\n",
              "      <td>41.4</td>\n",
              "      <td>8.70</td>\n",
              "      <td>8.449989</td>\n",
              "    </tr>\n",
              "    <tr>\n",
              "      <th>11</th>\n",
              "      <td>42.8</td>\n",
              "      <td>8.00</td>\n",
              "      <td>8.628067</td>\n",
              "    </tr>\n",
              "    <tr>\n",
              "      <th>9</th>\n",
              "      <td>44.2</td>\n",
              "      <td>8.80</td>\n",
              "      <td>8.806144</td>\n",
              "    </tr>\n",
              "  </tbody>\n",
              "</table>\n",
              "</div>\n",
              "      <button class=\"colab-df-convert\" onclick=\"convertToInteractive('df-2b0b5e4e-d813-4a8a-847f-b534f8a8cb2f')\"\n",
              "              title=\"Convert this dataframe to an interactive table.\"\n",
              "              style=\"display:none;\">\n",
              "        \n",
              "  <svg xmlns=\"http://www.w3.org/2000/svg\" height=\"24px\"viewBox=\"0 0 24 24\"\n",
              "       width=\"24px\">\n",
              "    <path d=\"M0 0h24v24H0V0z\" fill=\"none\"/>\n",
              "    <path d=\"M18.56 5.44l.94 2.06.94-2.06 2.06-.94-2.06-.94-.94-2.06-.94 2.06-2.06.94zm-11 1L8.5 8.5l.94-2.06 2.06-.94-2.06-.94L8.5 2.5l-.94 2.06-2.06.94zm10 10l.94 2.06.94-2.06 2.06-.94-2.06-.94-.94-2.06-.94 2.06-2.06.94z\"/><path d=\"M17.41 7.96l-1.37-1.37c-.4-.4-.92-.59-1.43-.59-.52 0-1.04.2-1.43.59L10.3 9.45l-7.72 7.72c-.78.78-.78 2.05 0 2.83L4 21.41c.39.39.9.59 1.41.59.51 0 1.02-.2 1.41-.59l7.78-7.78 2.81-2.81c.8-.78.8-2.07 0-2.86zM5.41 20L4 18.59l7.72-7.72 1.47 1.35L5.41 20z\"/>\n",
              "  </svg>\n",
              "      </button>\n",
              "      \n",
              "  <style>\n",
              "    .colab-df-container {\n",
              "      display:flex;\n",
              "      flex-wrap:wrap;\n",
              "      gap: 12px;\n",
              "    }\n",
              "\n",
              "    .colab-df-convert {\n",
              "      background-color: #E8F0FE;\n",
              "      border: none;\n",
              "      border-radius: 50%;\n",
              "      cursor: pointer;\n",
              "      display: none;\n",
              "      fill: #1967D2;\n",
              "      height: 32px;\n",
              "      padding: 0 0 0 0;\n",
              "      width: 32px;\n",
              "    }\n",
              "\n",
              "    .colab-df-convert:hover {\n",
              "      background-color: #E2EBFA;\n",
              "      box-shadow: 0px 1px 2px rgba(60, 64, 67, 0.3), 0px 1px 3px 1px rgba(60, 64, 67, 0.15);\n",
              "      fill: #174EA6;\n",
              "    }\n",
              "\n",
              "    [theme=dark] .colab-df-convert {\n",
              "      background-color: #3B4455;\n",
              "      fill: #D2E3FC;\n",
              "    }\n",
              "\n",
              "    [theme=dark] .colab-df-convert:hover {\n",
              "      background-color: #434B5C;\n",
              "      box-shadow: 0px 1px 3px 1px rgba(0, 0, 0, 0.15);\n",
              "      filter: drop-shadow(0px 1px 2px rgba(0, 0, 0, 0.3));\n",
              "      fill: #FFFFFF;\n",
              "    }\n",
              "  </style>\n",
              "\n",
              "      <script>\n",
              "        const buttonEl =\n",
              "          document.querySelector('#df-2b0b5e4e-d813-4a8a-847f-b534f8a8cb2f button.colab-df-convert');\n",
              "        buttonEl.style.display =\n",
              "          google.colab.kernel.accessAllowed ? 'block' : 'none';\n",
              "\n",
              "        async function convertToInteractive(key) {\n",
              "          const element = document.querySelector('#df-2b0b5e4e-d813-4a8a-847f-b534f8a8cb2f');\n",
              "          const dataTable =\n",
              "            await google.colab.kernel.invokeFunction('convertToInteractive',\n",
              "                                                     [key], {});\n",
              "          if (!dataTable) return;\n",
              "\n",
              "          const docLinkHtml = 'Like what you see? Visit the ' +\n",
              "            '<a target=\"_blank\" href=https://colab.research.google.com/notebooks/data_table.ipynb>data table notebook</a>'\n",
              "            + ' to learn more about interactive tables.';\n",
              "          element.innerHTML = '';\n",
              "          dataTable['output_type'] = 'display_data';\n",
              "          await google.colab.output.renderOutput(dataTable, element);\n",
              "          const docLink = document.createElement('div');\n",
              "          docLink.innerHTML = docLinkHtml;\n",
              "          element.appendChild(docLink);\n",
              "        }\n",
              "      </script>\n",
              "    </div>\n",
              "  </div>\n",
              "  "
            ]
          },
          "metadata": {},
          "execution_count": 41
        }
      ]
    },
    {
      "cell_type": "markdown",
      "metadata": {
        "id": "FZfKDj9OVWE0"
      },
      "source": [
        "Построим на одном графике исходные данные и теоретическую прямую, построенную по уравнению регрессии. Получим наглядное изображение разброса исходных данных относительно прямой (в том числе для оценки наличия выбросов):"
      ]
    },
    {
      "cell_type": "code",
      "source": [
        "import matplotlib.pyplot as plt\n",
        "\n",
        "plt.scatter(df['x'], df['y'])\n",
        "plt.plot(df['x'], df['y_pred'])\n",
        "plt.xlabel('Площадь квартиры (кв. м.)')\n",
        "plt.ylabel('Цена квартиры (млн. рублей)')\n",
        "plt.show()"
      ],
      "metadata": {
        "id": "V82ew1-jVWE3",
        "outputId": "206463f0-0691-44ce-c858-67999e39b776",
        "colab": {
          "base_uri": "https://localhost:8080/",
          "height": 279
        }
      },
      "execution_count": null,
      "outputs": [
        {
          "output_type": "display_data",
          "data": {
            "text/plain": [
              "<Figure size 432x288 with 1 Axes>"
            ],
            "image/png": "[encoded data removed]"
          },
          "metadata": {
            "needs_background": "light"
          }
        }
      ]
    }
  ]
}